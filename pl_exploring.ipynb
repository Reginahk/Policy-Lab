{
 "cells": [
  {
   "cell_type": "markdown",
   "metadata": {},
   "source": [
    "## Initial Code Analysis ##"
   ]
  },
  {
   "cell_type": "code",
   "execution_count": 3,
   "metadata": {},
   "outputs": [],
   "source": [
    "# setup steps #\n",
    "import pandas as pd\n",
    "import numpy as np\n",
    "import matplotlib.pyplot as plt\n",
    "import altair as alt\n",
    "\n",
    "ocha_data_df = pd.read_csv('ocha_weighted_avg.csv')\n",
    "piv_ocha_df = pd.read_csv('ocha_needs_met_pivot.csv')"
   ]
  },
  {
   "cell_type": "code",
   "execution_count": 4,
   "metadata": {},
   "outputs": [
    {
     "data": {
      "text/html": [
       "\n",
       "<style>\n",
       "  #altair-viz-ff51ea51a5cb4dbf91aa97c31d933207.vega-embed {\n",
       "    width: 100%;\n",
       "    display: flex;\n",
       "  }\n",
       "\n",
       "  #altair-viz-ff51ea51a5cb4dbf91aa97c31d933207.vega-embed details,\n",
       "  #altair-viz-ff51ea51a5cb4dbf91aa97c31d933207.vega-embed details summary {\n",
       "    position: relative;\n",
       "  }\n",
       "</style>\n",
       "<div id=\"altair-viz-ff51ea51a5cb4dbf91aa97c31d933207\"></div>\n",
       "<script type=\"text/javascript\">\n",
       "  var VEGA_DEBUG = (typeof VEGA_DEBUG == \"undefined\") ? {} : VEGA_DEBUG;\n",
       "  (function(spec, embedOpt){\n",
       "    let outputDiv = document.currentScript.previousElementSibling;\n",
       "    if (outputDiv.id !== \"altair-viz-ff51ea51a5cb4dbf91aa97c31d933207\") {\n",
       "      outputDiv = document.getElementById(\"altair-viz-ff51ea51a5cb4dbf91aa97c31d933207\");\n",
       "    }\n",
       "    const paths = {\n",
       "      \"vega\": \"https://cdn.jsdelivr.net/npm/vega@5?noext\",\n",
       "      \"vega-lib\": \"https://cdn.jsdelivr.net/npm/vega-lib?noext\",\n",
       "      \"vega-lite\": \"https://cdn.jsdelivr.net/npm/vega-lite@5.20.1?noext\",\n",
       "      \"vega-embed\": \"https://cdn.jsdelivr.net/npm/vega-embed@6?noext\",\n",
       "    };\n",
       "\n",
       "    function maybeLoadScript(lib, version) {\n",
       "      var key = `${lib.replace(\"-\", \"\")}_version`;\n",
       "      return (VEGA_DEBUG[key] == version) ?\n",
       "        Promise.resolve(paths[lib]) :\n",
       "        new Promise(function(resolve, reject) {\n",
       "          var s = document.createElement('script');\n",
       "          document.getElementsByTagName(\"head\")[0].appendChild(s);\n",
       "          s.async = true;\n",
       "          s.onload = () => {\n",
       "            VEGA_DEBUG[key] = version;\n",
       "            return resolve(paths[lib]);\n",
       "          };\n",
       "          s.onerror = () => reject(`Error loading script: ${paths[lib]}`);\n",
       "          s.src = paths[lib];\n",
       "        });\n",
       "    }\n",
       "\n",
       "    function showError(err) {\n",
       "      outputDiv.innerHTML = `<div class=\"error\" style=\"color:red;\">${err}</div>`;\n",
       "      throw err;\n",
       "    }\n",
       "\n",
       "    function displayChart(vegaEmbed) {\n",
       "      vegaEmbed(outputDiv, spec, embedOpt)\n",
       "        .catch(err => showError(`Javascript Error: ${err.message}<br>This usually means there's a typo in your chart specification. See the javascript console for the full traceback.`));\n",
       "    }\n",
       "\n",
       "    if(typeof define === \"function\" && define.amd) {\n",
       "      requirejs.config({paths});\n",
       "      require([\"vega-embed\"], displayChart, err => showError(`Error loading script: ${err.message}`));\n",
       "    } else {\n",
       "      maybeLoadScript(\"vega\", \"5\")\n",
       "        .then(() => maybeLoadScript(\"vega-lite\", \"5.20.1\"))\n",
       "        .then(() => maybeLoadScript(\"vega-embed\", \"6\"))\n",
       "        .catch(showError)\n",
       "        .then(() => displayChart(vegaEmbed));\n",
       "    }\n",
       "  })({\"config\": {\"view\": {\"continuousWidth\": 300, \"continuousHeight\": 300}}, \"data\": {\"name\": \"data-e8d45343ebeaf7b885219b92a521d2b7\"}, \"mark\": {\"type\": \"line\"}, \"encoding\": {\"color\": {\"field\": \"Country\", \"type\": \"nominal\"}, \"tooltip\": [{\"field\": \"Year\", \"type\": \"quantitative\"}, {\"field\": \"Country\", \"type\": \"nominal\"}, {\"field\": \"pct_fund\", \"format\": \".2%\", \"type\": \"quantitative\"}], \"x\": {\"field\": \"Year\", \"title\": \"Year\", \"type\": \"ordinal\"}, \"y\": {\"axis\": {\"format\": \"%\", \"title\": \"Percentage Funding Request Recieved\"}, \"field\": \"pct_fund\", \"type\": \"quantitative\"}}, \"params\": [{\"name\": \"param_2\", \"select\": {\"type\": \"interval\", \"encodings\": [\"x\", \"y\"]}, \"bind\": \"scales\"}], \"title\": \"Average % Funding by Country Over Time\", \"width\": 600, \"$schema\": \"https://vega.github.io/schema/vega-lite/v5.20.1.json\", \"datasets\": {\"data-e8d45343ebeaf7b885219b92a521d2b7\": [{\"Country\": \"Afghanistan\", \"Year\": 2018, \"pct_fund\": 0.78}, {\"Country\": \"Afghanistan\", \"Year\": 2019, \"pct_fund\": 0.75}, {\"Country\": \"Afghanistan\", \"Year\": 2020, \"pct_fund\": 0.53}, {\"Country\": \"Afghanistan\", \"Year\": 2021, \"pct_fund\": 1.305}, {\"Country\": \"Afghanistan\", \"Year\": 2022, \"pct_fund\": 0.74}, {\"Country\": \"Afghanistan\", \"Year\": 2023, \"pct_fund\": 0.52}, {\"Country\": \"Afghanistan\", \"Year\": 2024, \"pct_fund\": 0.41}, {\"Country\": \"Burkina Faso\", \"Year\": 2018, \"pct_fund\": 0.62}, {\"Country\": \"Burkina Faso\", \"Year\": 2019, \"pct_fund\": 0.5}, {\"Country\": \"Burkina Faso\", \"Year\": 2020, \"pct_fund\": 0.6}, {\"Country\": \"Burkina Faso\", \"Year\": 2021, \"pct_fund\": 0.5}, {\"Country\": \"Burkina Faso\", \"Year\": 2022, \"pct_fund\": 0.44}, {\"Country\": \"Burkina Faso\", \"Year\": 2023, \"pct_fund\": 0.4}, {\"Country\": \"Burkina Faso\", \"Year\": 2024, \"pct_fund\": 0.42}, {\"Country\": \"Cameroon\", \"Year\": 2018, \"pct_fund\": 0.45}, {\"Country\": \"Cameroon\", \"Year\": 2019, \"pct_fund\": 0.43}, {\"Country\": \"Cameroon\", \"Year\": 2020, \"pct_fund\": 0.49}, {\"Country\": \"Cameroon\", \"Year\": 2021, \"pct_fund\": 0.53}, {\"Country\": \"Cameroon\", \"Year\": 2022, \"pct_fund\": 0.54}, {\"Country\": \"Cameroon\", \"Year\": 2023, \"pct_fund\": 0.34}, {\"Country\": \"Cameroon\", \"Year\": 2024, \"pct_fund\": 0.4}, {\"Country\": \"Central African Republic\", \"Year\": 2018, \"pct_fund\": 0.54}, {\"Country\": \"Central African Republic\", \"Year\": 2019, \"pct_fund\": 0.7}, {\"Country\": \"Central African Republic\", \"Year\": 2020, \"pct_fund\": 0.68}, {\"Country\": \"Central African Republic\", \"Year\": 2021, \"pct_fund\": 0.92}, {\"Country\": \"Central African Republic\", \"Year\": 2022, \"pct_fund\": 0.99}, {\"Country\": \"Central African Republic\", \"Year\": 2023, \"pct_fund\": 0.65}, {\"Country\": \"Central African Republic\", \"Year\": 2024, \"pct_fund\": 0.42}, {\"Country\": \"Chad\", \"Year\": 2018, \"pct_fund\": 0.46}, {\"Country\": \"Chad\", \"Year\": 2019, \"pct_fund\": 0.58}, {\"Country\": \"Chad\", \"Year\": 2020, \"pct_fund\": 0.45}, {\"Country\": \"Chad\", \"Year\": 2021, \"pct_fund\": 0.38}, {\"Country\": \"Chad\", \"Year\": 2022, \"pct_fund\": 0.61}, {\"Country\": \"Chad\", \"Year\": 2023, \"pct_fund\": 0.45}, {\"Country\": \"Chad\", \"Year\": 2024, \"pct_fund\": 0.54}, {\"Country\": \"Democratic Republic of the Congo\", \"Year\": 2018, \"pct_fund\": 0.49}, {\"Country\": \"Democratic Republic of the Congo\", \"Year\": 2019, \"pct_fund\": 0.46}, {\"Country\": \"Democratic Republic of the Congo\", \"Year\": 2020, \"pct_fund\": 0.42}, {\"Country\": \"Democratic Republic of the Congo\", \"Year\": 2021, \"pct_fund\": 0.44}, {\"Country\": \"Democratic Republic of the Congo\", \"Year\": 2022, \"pct_fund\": 0.53}, {\"Country\": \"Democratic Republic of the Congo\", \"Year\": 2023, \"pct_fund\": 0.42}, {\"Country\": \"Democratic Republic of the Congo\", \"Year\": 2024, \"pct_fund\": 0.5}, {\"Country\": \"Haiti\", \"Year\": 2018, \"pct_fund\": 0.12}, {\"Country\": \"Haiti\", \"Year\": 2019, \"pct_fund\": 0.33}, {\"Country\": \"Haiti\", \"Year\": 2020, \"pct_fund\": 0.32}, {\"Country\": \"Haiti\", \"Year\": 2021, \"pct_fund\": 0.345}, {\"Country\": \"Haiti\", \"Year\": 2022, \"pct_fund\": 0.31}, {\"Country\": \"Haiti\", \"Year\": 2023, \"pct_fund\": 0.34}, {\"Country\": \"Haiti\", \"Year\": 2024, \"pct_fund\": 0.42}, {\"Country\": \"Mali\", \"Year\": 2018, \"pct_fund\": 0.54}, {\"Country\": \"Mali\", \"Year\": 2019, \"pct_fund\": 0.52}, {\"Country\": \"Mali\", \"Year\": 2020, \"pct_fund\": 0.5}, {\"Country\": \"Mali\", \"Year\": 2021, \"pct_fund\": 0.41}, {\"Country\": \"Mali\", \"Year\": 2022, \"pct_fund\": 0.43}, {\"Country\": \"Mali\", \"Year\": 2023, \"pct_fund\": 0.32}, {\"Country\": \"Mali\", \"Year\": 2024, \"pct_fund\": 0.35}, {\"Country\": \"Myanmar\", \"Year\": 2018, \"pct_fund\": 0.75}, {\"Country\": \"Myanmar\", \"Year\": 2019, \"pct_fund\": 0.84}, {\"Country\": \"Myanmar\", \"Year\": 2020, \"pct_fund\": 0.7}, {\"Country\": \"Myanmar\", \"Year\": 2021, \"pct_fund\": 0.5}, {\"Country\": \"Myanmar\", \"Year\": 2022, \"pct_fund\": 0.46}, {\"Country\": \"Myanmar\", \"Year\": 2023, \"pct_fund\": 0.46}, {\"Country\": \"Myanmar\", \"Year\": 2024, \"pct_fund\": 0.33}, {\"Country\": \"Niger\", \"Year\": 2018, \"pct_fund\": 0.53}, {\"Country\": \"Niger\", \"Year\": 2019, \"pct_fund\": 0.58}, {\"Country\": \"Niger\", \"Year\": 2020, \"pct_fund\": 0.72}, {\"Country\": \"Niger\", \"Year\": 2021, \"pct_fund\": 0.52}, {\"Country\": \"Niger\", \"Year\": 2022, \"pct_fund\": 0.7}, {\"Country\": \"Niger\", \"Year\": 2023, \"pct_fund\": 0.5}, {\"Country\": \"Niger\", \"Year\": 2024, \"pct_fund\": 0.46}, {\"Country\": \"Nigeria\", \"Year\": 2018, \"pct_fund\": 0.69}, {\"Country\": \"Nigeria\", \"Year\": 2019, \"pct_fund\": 0.74}, {\"Country\": \"Nigeria\", \"Year\": 2020, \"pct_fund\": 0.58}, {\"Country\": \"Nigeria\", \"Year\": 2021, \"pct_fund\": 0.71}, {\"Country\": \"Nigeria\", \"Year\": 2022, \"pct_fund\": 0.67}, {\"Country\": \"Nigeria\", \"Year\": 2023, \"pct_fund\": 0.44}, {\"Country\": \"Nigeria\", \"Year\": 2024, \"pct_fund\": 0.56}, {\"Country\": \"Occupied Palestinian Territory\", \"Year\": 2018, \"pct_fund\": 0.45}, {\"Country\": \"Occupied Palestinian Territory\", \"Year\": 2019, \"pct_fund\": 0.83}, {\"Country\": \"Occupied Palestinian Territory\", \"Year\": 2020, \"pct_fund\": 0.73}, {\"Country\": \"Occupied Palestinian Territory\", \"Year\": 2021, \"pct_fund\": 0.69}, {\"Country\": \"Occupied Palestinian Territory\", \"Year\": 2022, \"pct_fund\": 0.9}, {\"Country\": \"Occupied Palestinian Territory\", \"Year\": 2023, \"pct_fund\": 0.985}, {\"Country\": \"Occupied Palestinian Territory\", \"Year\": 2024, \"pct_fund\": 0.69}, {\"Country\": \"Somalia\", \"Year\": 2018, \"pct_fund\": 0.61}, {\"Country\": \"Somalia\", \"Year\": 2019, \"pct_fund\": 0.83}, {\"Country\": \"Somalia\", \"Year\": 2020, \"pct_fund\": 0.5800000000000001}, {\"Country\": \"Somalia\", \"Year\": 2021, \"pct_fund\": 0.665}, {\"Country\": \"Somalia\", \"Year\": 2022, \"pct_fund\": 0.925}, {\"Country\": \"Somalia\", \"Year\": 2023, \"pct_fund\": 0.58}, {\"Country\": \"Somalia\", \"Year\": 2024, \"pct_fund\": 0.385}, {\"Country\": \"South Sudan\", \"Year\": 2018, \"pct_fund\": 0.7}, {\"Country\": \"South Sudan\", \"Year\": 2019, \"pct_fund\": 0.76}, {\"Country\": \"South Sudan\", \"Year\": 2020, \"pct_fund\": 0.65}, {\"Country\": \"South Sudan\", \"Year\": 2021, \"pct_fund\": 0.75}, {\"Country\": \"South Sudan\", \"Year\": 2022, \"pct_fund\": 0.75}, {\"Country\": \"South Sudan\", \"Year\": 2023, \"pct_fund\": 0.56}, {\"Country\": \"South Sudan\", \"Year\": 2024, \"pct_fund\": 0.63}, {\"Country\": \"Sudan\", \"Year\": 2018, \"pct_fund\": 0.61}, {\"Country\": \"Sudan\", \"Year\": 2019, \"pct_fund\": 0.53}, {\"Country\": \"Sudan\", \"Year\": 2020, \"pct_fund\": 0.52}, {\"Country\": \"Sudan\", \"Year\": 2021, \"pct_fund\": 0.38}, {\"Country\": \"Sudan\", \"Year\": 2022, \"pct_fund\": 0.58}, {\"Country\": \"Sudan\", \"Year\": 2023, \"pct_fund\": 0.5}, {\"Country\": \"Sudan\", \"Year\": 2024, \"pct_fund\": 0.59}, {\"Country\": \"Syrian Arab Republic\", \"Year\": 2018, \"pct_fund\": 0.63}, {\"Country\": \"Syrian Arab Republic\", \"Year\": 2019, \"pct_fund\": 0.69}, {\"Country\": \"Syrian Arab Republic\", \"Year\": 2020, \"pct_fund\": 0.62}, {\"Country\": \"Syrian Arab Republic\", \"Year\": 2021, \"pct_fund\": 0.55}, {\"Country\": \"Syrian Arab Republic\", \"Year\": 2022, \"pct_fund\": 0.53}, {\"Country\": \"Syrian Arab Republic\", \"Year\": 2023, \"pct_fund\": 0.725}, {\"Country\": \"Syrian Arab Republic\", \"Year\": 2024, \"pct_fund\": 0.29}, {\"Country\": \"Ukraine\", \"Year\": 2018, \"pct_fund\": 0.38}, {\"Country\": \"Ukraine\", \"Year\": 2019, \"pct_fund\": 0.52}, {\"Country\": \"Ukraine\", \"Year\": 2020, \"pct_fund\": 0.6}, {\"Country\": \"Ukraine\", \"Year\": 2021, \"pct_fund\": 0.63}, {\"Country\": \"Ukraine\", \"Year\": 2022, \"pct_fund\": 0.88}, {\"Country\": \"Ukraine\", \"Year\": 2023, \"pct_fund\": 0.75}, {\"Country\": \"Ukraine\", \"Year\": 2024, \"pct_fund\": 0.61}, {\"Country\": \"Yemen\", \"Year\": 2018, \"pct_fund\": 0.81}, {\"Country\": \"Yemen\", \"Year\": 2019, \"pct_fund\": 0.87}, {\"Country\": \"Yemen\", \"Year\": 2020, \"pct_fund\": 0.475}, {\"Country\": \"Yemen\", \"Year\": 2021, \"pct_fund\": 0.585}, {\"Country\": \"Yemen\", \"Year\": 2022, \"pct_fund\": 0.7350000000000001}, {\"Country\": \"Yemen\", \"Year\": 2023, \"pct_fund\": 0.41}, {\"Country\": \"Yemen\", \"Year\": 2024, \"pct_fund\": 0.47}]}}, {\"mode\": \"vega-lite\"});\n",
       "</script>"
      ],
      "text/plain": [
       "alt.Chart(...)"
      ]
     },
     "metadata": {},
     "output_type": "display_data"
    }
   ],
   "source": [
    "# group and pivot for OCHA needs met #\n",
    "piv_ocha_df = piv_ocha_df.reset_index(drop=True) \n",
    "piv_ocha_df['pct_fund'] = piv_ocha_df['% funding']\n",
    "piv_ocha_df['pct_fund'] = piv_ocha_df['pct_fund'].str.replace('%', '', regex=False)\n",
    "piv_ocha_df['pct_fund'] = pd.to_numeric(piv_ocha_df['pct_fund'], errors= 'coerce')\n",
    "piv_ocha_df['pct_fund'] = piv_ocha_df['pct_fund']/100\n",
    "\n",
    "# exploding out the data from the grouped format\n",
    "def split_and_explode_countries(df):\n",
    "    df_new = df.copy()\n",
    "\n",
    "    def handle_country(country):\n",
    "        if isinstance(country, str):\n",
    "            return country.split(',')\n",
    "        elif isinstance(country, list):\n",
    "            return country\n",
    "        else: \n",
    "            try: \n",
    "                return [str(country)] \n",
    "            except Exception: \n",
    "                return [str(country)]  # Handle potential errors during conversion\n",
    "\n",
    "    df_new['Country'] = df_new['Country'].apply(handle_country)\n",
    "    df_new = df_new.explode('Country') \n",
    "    df_new['Country'] = df_new['Country'].str.strip() \n",
    "\n",
    "    return df_new\n",
    "\n",
    "piv_ocha_df['Country'] = piv_ocha_df['Country'].astype(str)\n",
    "\n",
    "new_pivdf = split_and_explode_countries(piv_ocha_df) \n",
    "\n",
    "# Group by country and year, calculate average % Funding\n",
    "grouped_df = new_pivdf.groupby(['Country', 'Year'])['pct_fund'].mean().reset_index()\n",
    "\n",
    "# filter to just our OCHA countries of interest\n",
    "target_countries = ['Afghanistan', 'Burkina Faso', 'Cameroon', 'Central African Republic', 'Chad', 'Democratic Republic of the Congo', 'Haiti', 'Mali', 'Myanmar', 'Niger', 'Nigeria', 'Occupied Palestinian Territory', 'South Sudan', 'Somalia', 'Sudan', 'Syrian Arab Republic', 'Ukraine', 'Yemen']\n",
    "filtered_df = grouped_df[grouped_df['Country'].isin(target_countries)]\n",
    "\n",
    "\n",
    "# Create the line chart using Altair\n",
    "chart = alt.Chart(filtered_df).mark_line().encode(\n",
    "    x=alt.X('Year:O', title='Year'), \n",
    "    y=alt.Y('pct_fund:Q', axis=alt.Axis(format='%', title='Percentage Funding Request Recieved')), \n",
    "    color='Country',\n",
    "    tooltip=['Year', 'Country', alt.Tooltip('pct_fund', format='.2%')]\n",
    ").properties(\n",
    "    title='Average % Funding by Country Over Time',\n",
    "    width=600  \n",
    ").interactive()\n",
    "\n",
    "chart.show() "
   ]
  },
  {
   "cell_type": "markdown",
   "metadata": {},
   "source": [
    "# Adding variables, exploring our data #"
   ]
  },
  {
   "cell_type": "code",
   "execution_count": null,
   "metadata": {},
   "outputs": [],
   "source": [
    "# Creating our Y-variable #\n",
    "\n"
   ]
  }
 ],
 "metadata": {
  "kernelspec": {
   "display_name": "base",
   "language": "python",
   "name": "python3"
  },
  "language_info": {
   "codemirror_mode": {
    "name": "ipython",
    "version": 3
   },
   "file_extension": ".py",
   "mimetype": "text/x-python",
   "name": "python",
   "nbconvert_exporter": "python",
   "pygments_lexer": "ipython3",
   "version": "3.11.7"
  }
 },
 "nbformat": 4,
 "nbformat_minor": 2
}
